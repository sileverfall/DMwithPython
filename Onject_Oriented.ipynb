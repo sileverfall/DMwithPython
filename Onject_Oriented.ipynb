{
 "cells": [
  {
   "cell_type": "markdown",
   "metadata": {},
   "source": [
    "## Class"
   ]
  },
  {
   "cell_type": "code",
   "execution_count": 1,
   "metadata": {
    "collapsed": true
   },
   "outputs": [],
   "source": [
    "class Banks(): \n",
    "    #定義銀行類別（類別就是自己定義的資料型態）\n",
    "    title = 'T Bank' #屬性\n",
    "    def motto(self):\n",
    "        return '以客為尊'#定義方法(在類別內的函數稱作方法，只有類別的物件才可以調用相同的方法)"
   ]
  },
  {
   "cell_type": "code",
   "execution_count": 3,
   "metadata": {},
   "outputs": [
    {
     "name": "stdout",
     "output_type": "stream",
     "text": [
      "T Bank\n",
      "以客為尊\n"
     ]
    }
   ],
   "source": [
    "#定義物件\n",
    "userbank = Banks()\n",
    "print(userbank.title)\n",
    "print(userbank.motto())"
   ]
  },
  {
   "cell_type": "code",
   "execution_count": 6,
   "metadata": {},
   "outputs": [
    {
     "name": "stdout",
     "output_type": "stream",
     "text": [
      "hung 存款餘額是 100\n"
     ]
    }
   ],
   "source": [
    "# 初始化類別：建立一個初始化方法，當程式宣告這個類別物件會自動執行這個方法 __init__()(又稱做建構元constructor)\n",
    "class Banks():\n",
    "    tilte = 'T Bank'\n",
    "    def __init__(self,uname,money): #在類別內想要參照各屬性與函數執行運算皆需要使用self\n",
    "        self.name = uname #定義存款者的名字\n",
    "        self.balance = money#定義所存的錢\n",
    "        \n",
    "    def get_balance(self): #獲得存款餘額\n",
    "        return self.balance\n",
    "hungbank = Banks('hung', 100) #定義物件hungbank\n",
    "print(hungbank.name, \"存款餘額是\",hungbank.get_balance())"
   ]
  },
  {
   "cell_type": "markdown",
   "metadata": {},
   "source": [
    "## Encapsulation"
   ]
  },
  {
   "cell_type": "code",
   "execution_count": 13,
   "metadata": {},
   "outputs": [
    {
     "name": "stdout",
     "output_type": "stream",
     "text": [
      "huang 目前餘額 0\n",
      "huang 目前餘額 0\n",
      "50 美金可以兌換 1485 台幣\n"
     ]
    }
   ],
   "source": [
    "#private : 在前面增加兩個底線\n",
    "class Banks():\n",
    "    def __init__(self,uname): #在類別內想要參照各屬性與函數執行運算皆需要使用self\n",
    "        self.__name = uname #定義存款者的名字\n",
    "        self.__balance = 0#定義所存的錢\n",
    "        self.__title = 'T Bank'\n",
    "        self.__rate = 30\n",
    "        self.__service_charge = 0.01\n",
    "       \n",
    "    \n",
    "    def save_money(self,money): #設計存款方法\n",
    "        self.__balance += money\n",
    "        print(\"存款\",money,\"完成\")\n",
    "    \n",
    "    def withdraw_money(self,money):\n",
    "        self.__balance -= money\n",
    "        print(\"提款\",money, \"完成\")\n",
    "    \n",
    "    def get_balance(self):\n",
    "        print(self.__name,\"目前餘額\", self.__balance)\n",
    "    \n",
    "    def usa_to_taiwan(self, usa_d):\n",
    "        self.result = self.__cal_rate(usa_d)\n",
    "        return self.result\n",
    "    \n",
    "    def __cal_rate(self,usa_d):\n",
    "        return int(usa_d * self.__rate * (1 - self.__service_charge))\n",
    "\n",
    "huangbank = Banks('huang')\n",
    "huangbank.get_balance()\n",
    "huangbank.balance = 10000\n",
    "huangbank.get_balance()\n",
    "usadallor = 50\n",
    "print(usadallor , \"美金可以兌換\",huangbank.usa_to_taiwan(usadallor),\"台幣\")"
   ]
  },
  {
   "cell_type": "markdown",
   "metadata": {},
   "source": [
    "## Inherit"
   ]
  },
  {
   "cell_type": "code",
   "execution_count": 14,
   "metadata": {},
   "outputs": [
    {
     "name": "stdout",
     "output_type": "stream",
     "text": [
      "存款 500 完成\n",
      "Ku 目前餘額 500\n"
     ]
    }
   ],
   "source": [
    "# 父類別的方法跟屬性可以讓子類別直接引用\n",
    "class A_banks(Banks):\n",
    "    pass\n",
    "Kubank = A_banks('Ku')\n",
    "Kubank.save_money(500)\n",
    "Kubank.get_balance()"
   ]
  },
  {
   "cell_type": "code",
   "execution_count": null,
   "metadata": {
    "collapsed": true
   },
   "outputs": [],
   "source": []
  }
 ],
 "metadata": {
  "kernelspec": {
   "display_name": "Python 3",
   "language": "python",
   "name": "python3"
  },
  "language_info": {
   "codemirror_mode": {
    "name": "ipython",
    "version": 3
   },
   "file_extension": ".py",
   "mimetype": "text/x-python",
   "name": "python",
   "nbconvert_exporter": "python",
   "pygments_lexer": "ipython3",
   "version": "3.6.1"
  }
 },
 "nbformat": 4,
 "nbformat_minor": 2
}
