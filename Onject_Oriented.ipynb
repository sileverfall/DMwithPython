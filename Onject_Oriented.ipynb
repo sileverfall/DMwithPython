{
 "cells": [
  {
   "cell_type": "markdown",
   "metadata": {},
   "source": [
    "## Class"
   ]
  },
  {
   "cell_type": "code",
   "execution_count": 1,
   "metadata": {
    "collapsed": true
   },
   "outputs": [],
   "source": [
    "class Banks(): \n",
    "    #定義銀行類別（類別就是自己定義的資料型態）\n",
    "    title = 'T Bank' #屬性\n",
    "    def motto(self):\n",
    "        return '以客為尊'#定義方法(在類別內的函數稱作方法，只有類別的物件才可以調用相同的方法)"
   ]
  },
  {
   "cell_type": "code",
   "execution_count": 2,
   "metadata": {},
   "outputs": [
    {
     "name": "stdout",
     "output_type": "stream",
     "text": [
      "T Bank\n",
      "以客為尊\n"
     ]
    }
   ],
   "source": [
    "#定義物件\n",
    "userbank = Banks()\n",
    "print(userbank.title)\n",
    "print(userbank.motto())"
   ]
  },
  {
   "cell_type": "code",
   "execution_count": 3,
   "metadata": {},
   "outputs": [
    {
     "name": "stdout",
     "output_type": "stream",
     "text": [
      "huang 存款餘額是 100\n"
     ]
    }
   ],
   "source": [
    "# 初始化類別：建立一個初始化方法，當程式宣告這個類別物件會自動執行這個方法 __init__()(又稱做建構元constructor)\n",
    "class Banks():\n",
    "    tilte = 'T Bank'\n",
    "    def __init__(self,uname,money): #在類別內想要參照各屬性與函數執行運算皆需要使用self\n",
    "        self.name = uname #定義存款者的名字\n",
    "        self.balance = money#定義所存的錢\n",
    "        \n",
    "    def get_balance(self): #獲得存款餘額\n",
    "        return self.balance\n",
    "huangbank = Banks('huang', 100) #定義物件hungbank\n",
    "print(huangbank.name, \"存款餘額是\",huangbank.get_balance())"
   ]
  },
  {
   "cell_type": "markdown",
   "metadata": {},
   "source": [
    "## Encapsulation"
   ]
  },
  {
   "cell_type": "code",
   "execution_count": 10,
   "metadata": {},
   "outputs": [
    {
     "name": "stdout",
     "output_type": "stream",
     "text": [
      "huang 目前餘額 0\n",
      "huang 目前餘額 0\n",
      "50 美金可以兌換 1485 台幣\n"
     ]
    }
   ],
   "source": [
    "#private : 在前面增加兩個底線\n",
    "class Banks():\n",
    "    def __init__(self,uname): #在類別內想要參照各屬性與函數執行運算皆需要使用self\n",
    "        self.__name = uname #定義存款者的名字\n",
    "        self.__balance = 0#定義所存的錢\n",
    "        self.__title = 'T Bank'\n",
    "        self.__rate = 30\n",
    "        self.__service_charge = 0.01\n",
    "       \n",
    "    \n",
    "    def save_money(self,money): #設計存款方法\n",
    "        self.__balance += money\n",
    "        print(\"存款\",money,\"完成\")\n",
    "    \n",
    "    def withdraw_money(self,money):\n",
    "        self.__balance -= money\n",
    "        print(\"提款\",money, \"完成\")\n",
    "    \n",
    "    def get_balance(self):\n",
    "        print(self.__name,\"目前餘額\", self.__balance)\n",
    "    \n",
    "    def usa_to_taiwan(self, usa_d):\n",
    "        self.result = self.__cal_rate(usa_d)\n",
    "        return self.result\n",
    "    \n",
    "    def __cal_rate(self,usa_d):\n",
    "        return int(usa_d * self.__rate * (1 - self.__service_charge))\n",
    "    \n",
    "    def bank_title(self):\n",
    "        return self.__title\n",
    "huangbank = Banks('huang')\n",
    "huangbank.get_balance()\n",
    "huangbank.balance = 10000\n",
    "huangbank.get_balance()\n",
    "usadallor = 50\n",
    "print(usadallor , \"美金可以兌換\",huangbank.usa_to_taiwan(usadallor),\"台幣\")"
   ]
  },
  {
   "cell_type": "markdown",
   "metadata": {},
   "source": [
    "## Inherit"
   ]
  },
  {
   "cell_type": "code",
   "execution_count": 14,
   "metadata": {
    "scrolled": true
   },
   "outputs": [
    {
     "name": "stdout",
     "output_type": "stream",
     "text": [
      "存款 500 完成\n",
      "Ku 目前餘額 500\n",
      "我的存款銀行是： T Bank\n"
     ]
    }
   ],
   "source": [
    "# 父類別的方法跟屬性可以讓子類別直接引用\n",
    "class A_banks(Banks):\n",
    "    pass\n",
    "Kubank = A_banks('Ku')\n",
    "Kubank.save_money(500)\n",
    "Kubank.get_balance()\n",
    "# 基於保護原因，類別定義外是無法直接取得類別內的私有屬性(用return解決)\n",
    "print(\"我的存款銀行是：\",huangbank.bank_title())"
   ]
  },
  {
   "cell_type": "code",
   "execution_count": 19,
   "metadata": {},
   "outputs": [
    {
     "name": "stdout",
     "output_type": "stream",
     "text": [
      "Lucy is 5 years old.\n"
     ]
    }
   ],
   "source": [
    "class Animals():\n",
    "    '''Animals類別，這是基底類別'''\n",
    "    def __init__(self,animal_name,animal_age):\n",
    "        self.name = animal_name\n",
    "        self.age = animal_age\n",
    "    \n",
    "    def run(self):\n",
    "        print(self.name.title(), \"is running\")\n",
    "\n",
    "        \n",
    "class Dogs(Animals):\n",
    "    '''Dogs類別，這是Animal的衍生類別'''\n",
    "    def __init__(self,dog_name,dog_age):\n",
    "        super().__init__('My pet' + dog_name.title(), dog_age)\n",
    "\n",
    "mycat = Animals('lucy',5)\n",
    "print(mycat.name.title(), 'is', mycat.age,\"years old.\")"
   ]
  },
  {
   "cell_type": "code",
   "execution_count": 21,
   "metadata": {},
   "outputs": [
    {
     "name": "stdout",
     "output_type": "stream",
     "text": [
      "My Petlily is 6 years old.\n",
      "My Petlily is running\n"
     ]
    }
   ],
   "source": [
    "mydog = Dogs('lily', 6)\n",
    "print(mydog.name.title(), 'is', mydog.age,\"years old.\")\n",
    "mydog.run()"
   ]
  },
  {
   "cell_type": "code",
   "execution_count": 32,
   "metadata": {},
   "outputs": [
    {
     "name": "stdout",
     "output_type": "stream",
     "text": [
      "Ivan's information\n",
      "Father's information\n",
      "Granfather's information\n",
      "\n",
      "Ivan's asset: 3000\n",
      "\n",
      "Father's asset: 8000\n",
      "\n",
      "Grandfather's asset: 10000\n"
     ]
    }
   ],
   "source": [
    "##三代同堂\n",
    "class Grandfather():\n",
    "    def __init__(self):\n",
    "        self.grandfathermoney = 10000\n",
    "    def get_infol(self):\n",
    "        print(\"Granfather's information\")\n",
    "\n",
    "class Father(Grandfather):\n",
    "    def __init__(self):\n",
    "        self.fathermoney = 8000\n",
    "        super().__init__()\n",
    "    def get_info2(self):\n",
    "        print(\"Father's information\")\n",
    "\n",
    "class Ivan(Father):\n",
    "    def __init__(self):\n",
    "        self.ivanmoney = 3000\n",
    "        super().__init__()\n",
    "    def get_info3(self):\n",
    "        print(\"Ivan's information\")\n",
    "    def get_money(self):\n",
    "        print(\"\\nIvan's asset:\", self.ivanmoney)\n",
    "        print(\"\\nFather's asset:\",self.fathermoney)\n",
    "        print(\"\\nGrandfather's asset:\",self.grandfathermoney)\n",
    "\n",
    "ivan = Ivan()\n",
    "ivan.get_info3()\n",
    "ivan.get_info2()\n",
    "ivan.get_infol()\n",
    "ivan.get_money()"
   ]
  },
  {
   "cell_type": "code",
   "execution_count": null,
   "metadata": {
    "collapsed": true
   },
   "outputs": [],
   "source": [
    "class Ira(Father):\n",
    "    def __init__(self):\n",
    "        self.iramoney = 8000\n",
    "        super().__init__()\n",
    "class Ian(Father):\n",
    "    def __init__(self):\n",
    "        self.ianmoney = 3000\n",
    "        super().__init__()\n",
    "    def get_money(self):\n",
    "        print(\"Ian's asset:\", self.ianmoney,\n",
    "             \"\\n Father's asset:\", self.fathermoney,\n",
    "             \"\\nIra's asset:\",Ira().iramoney)\n"
   ]
  }
 ],
 "metadata": {
  "kernelspec": {
   "display_name": "Python 3",
   "language": "python",
   "name": "python3"
  },
  "language_info": {
   "codemirror_mode": {
    "name": "ipython",
    "version": 3
   },
   "file_extension": ".py",
   "mimetype": "text/x-python",
   "name": "python",
   "nbconvert_exporter": "python",
   "pygments_lexer": "ipython3",
   "version": "3.6.1"
  }
 },
 "nbformat": 4,
 "nbformat_minor": 2
}
