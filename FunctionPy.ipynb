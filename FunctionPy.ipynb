{
 "cells": [
  {
   "cell_type": "markdown",
   "metadata": {
    "collapsed": true
   },
   "source": [
    "## Ch11 Basic Function"
   ]
  },
  {
   "cell_type": "code",
   "execution_count": 4,
   "metadata": {},
   "outputs": [
    {
     "name": "stdout",
     "output_type": "stream",
     "text": [
      "a= 8\n",
      "b= 6\n",
      "a-b= 2\n"
     ]
    }
   ],
   "source": [
    "def substract(x1,x2):\n",
    "    result = x1-x2\n",
    "    print(result)\n",
    "\n",
    "a = int(input(\"a= \"))\n",
    "b = int (input(\"b= \"))\n",
    "print (\"a-b= \",end=\"\")\n",
    "substract(a,b)"
   ]
  },
  {
   "cell_type": "code",
   "execution_count": 7,
   "metadata": {},
   "outputs": [
    {
     "name": "stdout",
     "output_type": "stream",
     "text": [
      "My interest is:travel\n",
      "In travel, my favorite is US\n",
      "\n",
      "My interest is:coding\n",
      "In coding, my favorite is python\n",
      "\n"
     ]
    }
   ],
   "source": [
    "## keyword arguments\n",
    "def interest(interest_type,subject):\n",
    "    print(\"My interest is:\" +interest_type)\n",
    "    print(\"In \"+interest_type+\", my favorite is \"+subject)\n",
    "    print()\n",
    "    \n",
    "interest('travel','US')\n",
    "interest(subject= 'python',interest_type='coding' )"
   ]
  },
  {
   "cell_type": "code",
   "execution_count": 10,
   "metadata": {},
   "outputs": [
    {
     "name": "stdout",
     "output_type": "stream",
     "text": [
      "Ku Justin cha先生歡迎你\n"
     ]
    }
   ],
   "source": [
    "def guest_info(firstname,middlename,lastname,gender):\n",
    "    if gender ==\"M\":\n",
    "        welcome = lastname+\" \"+middlename+\" \"+firstname+\"先生歡迎你\"\n",
    "    else :\n",
    "        welcome = lastname+\" \"+middlename+\" \"+firstname+\"小姐歡迎你\"\n",
    "    return welcome\n",
    "\n",
    "info1 =guest_info(\"cha\",\"Justin\",\"Ku\",\"M\")\n",
    "print(info1)"
   ]
  },
  {
   "cell_type": "code",
   "execution_count": 12,
   "metadata": {},
   "outputs": [
    {
     "name": "stdout",
     "output_type": "stream",
     "text": [
      "This strawberry is topping with:\n",
      "=== chocolate\n",
      "=== cookies\n"
     ]
    }
   ],
   "source": [
    "# 不指定參數的數量\n",
    "def make_icecream(icecream_type, *toppings):\n",
    "    print(\"This \"+icecream_type +\" is topping with:\")\n",
    "    for topping in toppings:\n",
    "        print(\"===\",topping)\n",
    "make_icecream('strawberry', 'chocolate','cookies')"
   ]
  },
  {
   "cell_type": "code",
   "execution_count": 14,
   "metadata": {},
   "outputs": [
    {
     "name": "stdout",
     "output_type": "stream",
     "text": [
      "{'Name': 'James', 'Age': '27', 'City': 'Cleveland', 'State': 'Ohio'}\n"
     ]
    }
   ],
   "source": [
    "def build_dict(name, age, **players):\n",
    "    info={}\n",
    "    info['Name']= name\n",
    "    info['Age'] = age\n",
    "    for key, value in players.items():\n",
    "        info[key] = value\n",
    "    return info\n",
    "player_dict = build_dict('James','27',City='Cleveland',State= 'Ohio')\n",
    "print(player_dict)"
   ]
  },
  {
   "cell_type": "code",
   "execution_count": 16,
   "metadata": {},
   "outputs": [
    {
     "name": "stdout",
     "output_type": "stream",
     "text": [
      "6\n",
      "120\n"
     ]
    }
   ],
   "source": [
    "#recursive 遞迴 ：自己呼叫自己\n",
    "def factorial(n):\n",
    "    if n ==1:\n",
    "        return 1\n",
    "    else:\n",
    "        return(n*factorial(n-1))\n",
    "value=3\n",
    "print(factorial(value))\n",
    "value1=5\n",
    "print(factorial(value1))"
   ]
  },
  {
   "cell_type": "code",
   "execution_count": 17,
   "metadata": {},
   "outputs": [
    {
     "name": "stdout",
     "output_type": "stream",
     "text": [
      "100\n"
     ]
    }
   ],
   "source": [
    "# 匿名函數 anonymous function\n",
    "# lambda 表達式\n",
    "# 可以有很多參數，但只能有一個程式碼表達式\n",
    "square  =lambda x:x ** 2\n",
    "print(square(10))"
   ]
  },
  {
   "cell_type": "code",
   "execution_count": 19,
   "metadata": {},
   "outputs": [
    {
     "name": "stdout",
     "output_type": "stream",
     "text": [
      "odd is:  [5, 15, 25]\n"
     ]
    }
   ],
   "source": [
    "# filter()\n",
    "def oddfn(x):\n",
    "    return x if (x % 2 == 1) else None\n",
    "\n",
    "mylist=[5,10,15,20,25,30]\n",
    "filter_object= filter(oddfn,mylist)\n",
    "print('odd is: ',[item for item in filter_object])"
   ]
  },
  {
   "cell_type": "code",
   "execution_count": 21,
   "metadata": {},
   "outputs": [
    {
     "name": "stdout",
     "output_type": "stream",
     "text": [
      "[5, 15, 25]\n"
     ]
    }
   ],
   "source": [
    "oddlist = list(filter(lambda x :(x %2 ==1),mylist))\n",
    "print(oddlist)"
   ]
  },
  {
   "cell_type": "code",
   "execution_count": 22,
   "metadata": {},
   "outputs": [
    {
     "name": "stdout",
     "output_type": "stream",
     "text": [
      "[25, 100, 225, 400, 625, 900]\n"
     ]
    }
   ],
   "source": [
    "squarelist = list(map(lambda x : x**2,mylist))\n",
    "print(squarelist)"
   ]
  },
  {
   "cell_type": "code",
   "execution_count": null,
   "metadata": {
    "collapsed": true
   },
   "outputs": [],
   "source": []
  }
 ],
 "metadata": {
  "kernelspec": {
   "display_name": "Python 3",
   "language": "python",
   "name": "python3"
  },
  "language_info": {
   "codemirror_mode": {
    "name": "ipython",
    "version": 3
   },
   "file_extension": ".py",
   "mimetype": "text/x-python",
   "name": "python",
   "nbconvert_exporter": "python",
   "pygments_lexer": "ipython3",
   "version": "3.6.1"
  }
 },
 "nbformat": 4,
 "nbformat_minor": 2
}
