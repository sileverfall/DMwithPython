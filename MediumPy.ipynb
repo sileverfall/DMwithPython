{
 "cells": [
  {
   "cell_type": "markdown",
   "metadata": {},
   "source": [
    "## CH4 資料的輸入與輸出"
   ]
  },
  {
   "cell_type": "code",
   "execution_count": 2,
   "metadata": {},
   "outputs": [
    {
     "name": "stdout",
     "output_type": "stream",
     "text": [
      "Wennie你的第 1 次小考成績是 90\n"
     ]
    }
   ],
   "source": [
    "score = 90\n",
    "str1 = \"Wennie\"\n",
    "count = 1\n",
    "formatstr = \"%s你的第 %d 次小考成績是 %d\"\n",
    "print(formatstr % (str1,count,score))"
   ]
  },
  {
   "cell_type": "code",
   "execution_count": 5,
   "metadata": {},
   "outputs": [
    {
     "name": "stdout",
     "output_type": "stream",
     "text": [
      "Wennie你的第1次小考成績是90\n",
      "Wennie你的第1次小考成績是90\n"
     ]
    }
   ],
   "source": [
    "#%x:十六進位整數輸出 %o:八進位整數輸出\n",
    "\n",
    "#format()\n",
    "print(\"{}你的第{}次小考成績是{}\".format(str1,count,score))\n",
    "#以字串代替輸出格式\n",
    "str2 = \"{}你的第{}次小考成績是{}\"\n",
    "print(str2.format(str1,count,score))"
   ]
  },
  {
   "cell_type": "code",
   "execution_count": 6,
   "metadata": {},
   "outputs": [
    {
     "name": "stdout",
     "output_type": "stream",
     "text": [
      "請輸入姓名asduio\n",
      "<class 'str'>\n"
     ]
    }
   ],
   "source": [
    "# input()\n",
    "name = input(\"請輸入姓名\")\n",
    "print(type(name))"
   ]
  },
  {
   "cell_type": "code",
   "execution_count": 13,
   "metadata": {},
   "outputs": [
    {
     "name": "stdout",
     "output_type": "stream",
     "text": [
      "['ArithmeticError', 'AssertionError', 'AttributeError', 'BaseException', 'BlockingIOError', 'BrokenPipeError', 'BufferError', 'BytesWarning', 'ChildProcessError', 'ConnectionAbortedError']\n",
      "<class 'list'>\n",
      "152\n"
     ]
    }
   ],
   "source": [
    "# 列出所有內建函數\n",
    "print(dir(__builtins__)[:10])\n",
    "print(type(dir(__builtins__)))\n",
    "print(len(dir(__builtins__)))"
   ]
  },
  {
   "cell_type": "markdown",
   "metadata": {},
   "source": [
    "## Ch5 流程控制(if)"
   ]
  },
  {
   "cell_type": "code",
   "execution_count": 16,
   "metadata": {},
   "outputs": [
    {
     "name": "stdout",
     "output_type": "stream",
     "text": [
      "判斷是否為閏年\n",
      "請輸入年份2000\n",
      "2000 是閏年\n"
     ]
    }
   ],
   "source": [
    "# 測試某一年是否為閏年\n",
    "print(\"判斷是否為閏年\")\n",
    "year = input(\"請輸入年份\")\n",
    "rem4  = int(year)%4\n",
    "rem100 = int(year)%100\n",
    "rem400 = int(year)%400\n",
    "if rem4 ==0:\n",
    "    if rem100 !=0 or rem400 ==0:\n",
    "        print(\"%s 是閏年\" % year)\n",
    "    else:\n",
    "        print(\"%s 不是閏年\" % year)\n",
    "else:\n",
    "    print(\"%s 不是閏年\" % year)\n",
    "        \n",
    "        "
   ]
  },
  {
   "cell_type": "code",
   "execution_count": 17,
   "metadata": {},
   "outputs": [
    {
     "name": "stdout",
     "output_type": "stream",
     "text": [
      "flag尚未被定義\n"
     ]
    }
   ],
   "source": [
    "# None\n",
    "flag = None\n",
    "if flag == None:\n",
    "    print(\"flag尚未被定義\")"
   ]
  },
  {
   "cell_type": "markdown",
   "metadata": {},
   "source": [
    "## Ch6 List"
   ]
  },
  {
   "cell_type": "code",
   "execution_count": 21,
   "metadata": {},
   "outputs": [
    {
     "name": "stdout",
     "output_type": "stream",
     "text": [
      "3\n",
      "2\n",
      "0\n",
      "no factor in nums\n"
     ]
    }
   ],
   "source": [
    "cars = [\"T\",\"H\",\"N\"]\n",
    "print(len(cars))\n",
    "if len(cars)!=0:\n",
    "    del cars[0]\n",
    "    print(len(cars))\n",
    "else:\n",
    "    print(\"no factor\")\n",
    "nums=[]\n",
    "print(len(nums))\n",
    "if len(nums)!=0:\n",
    "    del nums[0]\n",
    "    print(len(nums))\n",
    "else:\n",
    "    print(\"no factor in nums\")\n"
   ]
  },
  {
   "cell_type": "code",
   "execution_count": 23,
   "metadata": {
    "collapsed": true
   },
   "outputs": [
    {
     "data": {
      "text/plain": [
       "['__add__',\n",
       " '__class__',\n",
       " '__contains__',\n",
       " '__delattr__',\n",
       " '__dir__',\n",
       " '__doc__',\n",
       " '__eq__',\n",
       " '__format__',\n",
       " '__ge__',\n",
       " '__getattribute__',\n",
       " '__getitem__',\n",
       " '__getnewargs__',\n",
       " '__gt__',\n",
       " '__hash__',\n",
       " '__init__',\n",
       " '__init_subclass__',\n",
       " '__iter__',\n",
       " '__le__',\n",
       " '__len__',\n",
       " '__lt__',\n",
       " '__mod__',\n",
       " '__mul__',\n",
       " '__ne__',\n",
       " '__new__',\n",
       " '__reduce__',\n",
       " '__reduce_ex__',\n",
       " '__repr__',\n",
       " '__rmod__',\n",
       " '__rmul__',\n",
       " '__setattr__',\n",
       " '__sizeof__',\n",
       " '__str__',\n",
       " '__subclasshook__',\n",
       " 'capitalize',\n",
       " 'casefold',\n",
       " 'center',\n",
       " 'count',\n",
       " 'encode',\n",
       " 'endswith',\n",
       " 'expandtabs',\n",
       " 'find',\n",
       " 'format',\n",
       " 'format_map',\n",
       " 'index',\n",
       " 'isalnum',\n",
       " 'isalpha',\n",
       " 'isdecimal',\n",
       " 'isdigit',\n",
       " 'isidentifier',\n",
       " 'islower',\n",
       " 'isnumeric',\n",
       " 'isprintable',\n",
       " 'isspace',\n",
       " 'istitle',\n",
       " 'isupper',\n",
       " 'join',\n",
       " 'ljust',\n",
       " 'lower',\n",
       " 'lstrip',\n",
       " 'maketrans',\n",
       " 'partition',\n",
       " 'replace',\n",
       " 'rfind',\n",
       " 'rindex',\n",
       " 'rjust',\n",
       " 'rpartition',\n",
       " 'rsplit',\n",
       " 'rstrip',\n",
       " 'split',\n",
       " 'splitlines',\n",
       " 'startswith',\n",
       " 'strip',\n",
       " 'swapcase',\n",
       " 'title',\n",
       " 'translate',\n",
       " 'upper',\n",
       " 'zfill']"
      ]
     },
     "execution_count": 23,
     "metadata": {},
     "output_type": "execute_result"
    }
   ],
   "source": [
    "string = \"abc\"\n",
    "dir(string)"
   ]
  },
  {
   "cell_type": "code",
   "execution_count": 24,
   "metadata": {},
   "outputs": [
    {
     "name": "stdout",
     "output_type": "stream",
     "text": [
      "ABC\n",
      "abc\n",
      "Abc\n"
     ]
    }
   ],
   "source": [
    "print(string.upper())\n",
    "print(string.lower())\n",
    "print(string.title())"
   ]
  },
  {
   "cell_type": "code",
   "execution_count": 25,
   "metadata": {},
   "outputs": [
    {
     "name": "stdout",
     "output_type": "stream",
     "text": [
      "Apple    \n",
      "   Apple\n",
      "Apple\n"
     ]
    }
   ],
   "source": [
    "strN= \"   Apple    \"\n",
    "print(strN.lstrip())\n",
    "print(strN.rstrip())\n",
    "print(strN.strip())"
   ]
  },
  {
   "cell_type": "code",
   "execution_count": 29,
   "metadata": {},
   "outputs": [
    {
     "name": "stdout",
     "output_type": "stream",
     "text": [
      "['A', 'B', 'C']\n",
      "['A', 'B', 'C', 'D']\n"
     ]
    }
   ],
   "source": [
    "Voc = [\"A\",\"B\",\"C\"]\n",
    "print(Voc)\n",
    "Voc.append(\"D\")\n",
    "print(Voc)"
   ]
  },
  {
   "cell_type": "code",
   "execution_count": 30,
   "metadata": {},
   "outputs": [
    {
     "name": "stdout",
     "output_type": "stream",
     "text": [
      "['A', 'B', 'K', 'C', 'D']\n"
     ]
    }
   ],
   "source": [
    "Voc.insert(2,\"K\")\n",
    "print(Voc)"
   ]
  },
  {
   "cell_type": "code",
   "execution_count": 31,
   "metadata": {},
   "outputs": [
    {
     "name": "stdout",
     "output_type": "stream",
     "text": [
      "['A', 'B', 'K', 'C']\n",
      "['B', 'K', 'C']\n"
     ]
    }
   ],
   "source": [
    "Voc.pop()\n",
    "print(Voc)\n",
    "Voc.pop(0)\n",
    "print(Voc)"
   ]
  },
  {
   "cell_type": "code",
   "execution_count": 32,
   "metadata": {},
   "outputs": [
    {
     "name": "stdout",
     "output_type": "stream",
     "text": [
      "['K', 'C']\n"
     ]
    }
   ],
   "source": [
    "Bottle = \"B\"\n",
    "Voc.remove(Bottle)\n",
    "print(Voc)"
   ]
  },
  {
   "cell_type": "markdown",
   "metadata": {},
   "source": [
    "## Ch7 基本迴圈"
   ]
  },
  {
   "cell_type": "code",
   "execution_count": 37,
   "metadata": {},
   "outputs": [
    {
     "name": "stdout",
     "output_type": "stream",
     "text": [
      "[1, 4, 9, 16, 25, 36, 49, 64, 81, 100]\n"
     ]
    }
   ],
   "source": [
    "n=12\n",
    "if n >10 : \n",
    "    n=10\n",
    "    squ =[num **2 for num in range(1,n+1)]\n",
    "    print(squ)"
   ]
  },
  {
   "cell_type": "code",
   "execution_count": 38,
   "metadata": {},
   "outputs": [
    {
     "name": "stdout",
     "output_type": "stream",
     "text": [
      "1*1 = 1   1*2 = 2   1*3 = 3   1*4 = 4   1*5 = 5   1*6 = 6   1*7 = 7   1*8 = 8   1*9 = 9   \n",
      "2*1 = 2   2*2 = 4   2*3 = 6   2*4 = 8   2*5 = 10  2*6 = 12  2*7 = 14  2*8 = 16  2*9 = 18  \n",
      "3*1 = 3   3*2 = 6   3*3 = 9   3*4 = 12  3*5 = 15  3*6 = 18  3*7 = 21  3*8 = 24  3*9 = 27  \n",
      "4*1 = 4   4*2 = 8   4*3 = 12  4*4 = 16  4*5 = 20  4*6 = 24  4*7 = 28  4*8 = 32  4*9 = 36  \n",
      "5*1 = 5   5*2 = 10  5*3 = 15  5*4 = 20  5*5 = 25  5*6 = 30  5*7 = 35  5*8 = 40  5*9 = 45  \n",
      "6*1 = 6   6*2 = 12  6*3 = 18  6*4 = 24  6*5 = 30  6*6 = 36  6*7 = 42  6*8 = 48  6*9 = 54  \n",
      "7*1 = 7   7*2 = 14  7*3 = 21  7*4 = 28  7*5 = 35  7*6 = 42  7*7 = 49  7*8 = 56  7*9 = 63  \n",
      "8*1 = 8   8*2 = 16  8*3 = 24  8*4 = 32  8*5 = 40  8*6 = 48  8*7 = 56  8*8 = 64  8*9 = 72  \n",
      "9*1 = 9   9*2 = 18  9*3 = 27  9*4 = 36  9*5 = 45  9*6 = 54  9*7 = 63  9*8 = 72  9*9 = 81  \n"
     ]
    }
   ],
   "source": [
    "for i in range(1,10):\n",
    "    for j in range(1,10):\n",
    "        result = i*j\n",
    "        print(\"%d*%d = %-3d\" % (i,j,result), end=\" \")\n",
    "    print()"
   ]
  },
  {
   "cell_type": "code",
   "execution_count": 39,
   "metadata": {},
   "outputs": [
    {
     "name": "stdout",
     "output_type": "stream",
     "text": [
      "\n",
      "aa\n",
      "aaaa\n",
      "aaaaaa\n",
      "aaaaaaaa\n",
      "aaaaaaaaaa\n",
      "aaaaaaaaaaaa\n",
      "aaaaaaaaaaaaaa\n",
      "aaaaaaaaaaaaaaaa\n"
     ]
    }
   ],
   "source": [
    "for i in range(1,10):\n",
    "    for j in range(1,10):\n",
    "        if j < i :\n",
    "            print(\"aa\", end=\"\")\n",
    "    print()"
   ]
  },
  {
   "cell_type": "code",
   "execution_count": 40,
   "metadata": {},
   "outputs": [
    {
     "name": "stdout",
     "output_type": "stream",
     "text": [
      "請輸入大於1的整數進行質數測試：7\n",
      "7是質數\n"
     ]
    }
   ],
   "source": [
    "num = int(input(\"請輸入大於1的整數進行質數測試：\"))\n",
    "if num ==2:\n",
    "    print(\"%d是質數\" %num)\n",
    "else:\n",
    "    for n in range(2,num):\n",
    "        if num % n ==0:\n",
    "            print(\"%d 不是質數\" % num)\n",
    "            break\n",
    "    else:\n",
    "        print(\"%d是質數\" % num)"
   ]
  },
  {
   "cell_type": "code",
   "execution_count": 41,
   "metadata": {},
   "outputs": [
    {
     "name": "stdout",
     "output_type": "stream",
     "text": [
      "請輸入1-100的數字：2\n",
      "請猜大一點\n",
      "請輸入1-100的數字：6\n",
      "請猜大一點\n",
      "請輸入1-100的數字：39\n",
      "請猜小一點\n",
      "請輸入1-100的數字：38\n",
      "恭喜猜對了！\n"
     ]
    }
   ],
   "source": [
    "# while\n",
    "ans = 38\n",
    "guess = 0\n",
    "while guess != ans:\n",
    "    guess = int(input('請輸入1-100的數字：'))\n",
    "    if guess > ans:\n",
    "        print(\"請猜小一點\")\n",
    "    elif guess < ans:\n",
    "        print(\"請猜大一點\")\n",
    "    else:\n",
    "        print(\"恭喜猜對了！\")"
   ]
  },
  {
   "cell_type": "code",
   "execution_count": null,
   "metadata": {
    "collapsed": true
   },
   "outputs": [],
   "source": []
  }
 ],
 "metadata": {
  "kernelspec": {
   "display_name": "Python 3",
   "language": "python",
   "name": "python3"
  },
  "language_info": {
   "codemirror_mode": {
    "name": "ipython",
    "version": 3
   },
   "file_extension": ".py",
   "mimetype": "text/x-python",
   "name": "python",
   "nbconvert_exporter": "python",
   "pygments_lexer": "ipython3",
   "version": "3.6.1"
  }
 },
 "nbformat": 4,
 "nbformat_minor": 2
}
